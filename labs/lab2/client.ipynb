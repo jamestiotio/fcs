{
 "cells": [
  {
   "cell_type": "markdown",
   "source": [
    "## FCS Lab 2 Submission Report"
   ],
   "metadata": {}
  },
  {
   "cell_type": "markdown",
   "source": [
    "* Name of Student(s): James Raphael Tiovalen\n",
    "* Student ID(s): 1004555"
   ],
   "metadata": {}
  },
  {
   "cell_type": "code",
   "execution_count": 2,
   "source": [
    "import base64\n",
    "import requests\n",
    "\n",
    "def XOR(a, b):\n",
    "    r = b\"\"\n",
    "    for x, y in zip(a, b):\n",
    "        r += (x ^ y).to_bytes(1, \"big\")\n",
    "    return r\n",
    "\n",
    "class Client:\n",
    "    def __init__(self, endpoint, uid):\n",
    "        self.endpoint = endpoint\n",
    "        self.uid = str(uid).lower().strip()\n",
    "\n",
    "    def post(self, url, data=None):\n",
    "        r = requests.post(url, json=data).json()\n",
    "        if not r[\"success\"]:\n",
    "            print(\"Warning: something might be wrong with the server\")\n",
    "            print(\"If you don't think is your mistake, please report it!\")\n",
    "        return r\n",
    "\n",
    "    def get_story_cipher(self):\n",
    "        url = self.endpoint + \"/story\"\n",
    "        return requests.get(url).json()\n",
    "\n",
    "    def post_story_plaintext(self, solution):\n",
    "        url = self.endpoint + \"/story\"\n",
    "        solution = str(solution).lower().strip()\n",
    "        data = {\"solution\": solution}\n",
    "        return self.post(url, data)\n",
    "\n",
    "    def get_score_msg_cipher(self):\n",
    "        url = self.endpoint + \"/score\"\n",
    "        data = {\"request\": \"get_msg\", \"id\": self.uid}\n",
    "        return self.post(url, data)\n",
    "\n",
    "    def submit_score_msg_cipher(self, cipher_base64):\n",
    "        url = self.endpoint + \"/score\"\n",
    "        data = {\"request\": \"decrypt_msg\", \"id\": self.uid, \"cipher\": cipher_base64}\n",
    "        return self.post(url, data)\n",
    "\n",
    "    def base64_encode_bytes(self, byte_array):\n",
    "        return str(base64.b64encode(byte_array))[2:-1]\n",
    "\n",
    "    def base64_decode_bytes(self, base64_string):\n",
    "        return base64.b64decode(base64_string)"
   ],
   "outputs": [],
   "metadata": {}
  },
  {
   "cell_type": "code",
   "execution_count": 3,
   "source": [
    "endpoint = \"http://35.197.130.121/\"\n",
    "uid = \"1004555\"\n",
    "\n",
    "client = Client(endpoint, uid)"
   ],
   "outputs": [],
   "metadata": {}
  },
  {
   "cell_type": "markdown",
   "source": [
    "## Part I: Story - Substitution Cipher\n",
    "\n",
    "1. GET the cipher for the story\n",
    "2. Crack this with frequency analysis\n",
    "3. POST it back to the server to check (example is provided below)\n",
    "\n",
    "If the response contains `'solution_correct': 'correct'`, then your decryption is correct. Otherwise, a distance will be provided to let you know how far off you are. If you are off by a tiny bit (say, 1 or 2), you can check things like line-ending, extra space at start/end etc. The verification is not case sensitive."
   ],
   "metadata": {}
  },
  {
   "cell_type": "code",
   "execution_count": 5,
   "source": [
    "story_cipher = client.get_story_cipher()[\"cipher\"]\n",
    "print(\"story_cipher:\", story_cipher[:50], \"...\")"
   ],
   "outputs": [
    {
     "output_type": "stream",
     "name": "stdout",
     "text": [
      "story_cipher: MXQJ YI IOCFXEWUQH. VEH Q BEEEEEDW, BEEEDW JYCU Y  ...\n"
     ]
    }
   ],
   "metadata": {}
  },
  {
   "cell_type": "code",
   "execution_count": 6,
   "source": [
    "# example posting a string back to the server\n",
    "client.post_story_plaintext(\"random\")\n",
    "# a distance is provided for you to check how close you are"
   ],
   "outputs": [
    {
     "output_type": "execute_result",
     "data": {
      "text/plain": [
       "{'distance': '3353',\n",
       " 'hint': 'it is a substitution cipher; it is obvious when correct',\n",
       " 'solution_correct': 'wrong',\n",
       " 'success': True}"
      ]
     },
     "metadata": {},
     "execution_count": 6
    }
   ],
   "metadata": {}
  },
  {
   "cell_type": "code",
   "execution_count": 15,
   "source": [
    "# you can also load solution from a text file\n",
    "with open(\"./solution.txt\", \"r\") as file:\n",
    "    PART_1_SOLUTION = file.read()\n",
    "part_1_result = client.post_story_plaintext(PART_1_SOLUTION)\n",
    "print(part_1_result)\n",
    "assert part_1_result[\"solution_correct\"] == \"correct\""
   ],
   "outputs": [
    {
     "output_type": "stream",
     "name": "stdout",
     "text": [
      "{'distance': '1', 'hint': 'it is a substitution cipher; it is obvious when correct', 'solution_correct': 'wrong', 'success': True}\n"
     ]
    },
    {
     "output_type": "error",
     "ename": "AssertionError",
     "evalue": "",
     "traceback": [
      "\u001b[0;31m---------------------------------------------------------------------------\u001b[0m",
      "\u001b[0;31mAssertionError\u001b[0m                            Traceback (most recent call last)",
      "\u001b[0;32m/tmp/ipykernel_10102/2816329918.py\u001b[0m in \u001b[0;36m<module>\u001b[0;34m\u001b[0m\n\u001b[1;32m      4\u001b[0m \u001b[0mpart_1_result\u001b[0m \u001b[0;34m=\u001b[0m \u001b[0mclient\u001b[0m\u001b[0;34m.\u001b[0m\u001b[0mpost_story_plaintext\u001b[0m\u001b[0;34m(\u001b[0m\u001b[0mPART_1_SOLUTION\u001b[0m\u001b[0;34m)\u001b[0m\u001b[0;34m\u001b[0m\u001b[0;34m\u001b[0m\u001b[0m\n\u001b[1;32m      5\u001b[0m \u001b[0mprint\u001b[0m\u001b[0;34m(\u001b[0m\u001b[0mpart_1_result\u001b[0m\u001b[0;34m)\u001b[0m\u001b[0;34m\u001b[0m\u001b[0;34m\u001b[0m\u001b[0m\n\u001b[0;32m----> 6\u001b[0;31m \u001b[0;32massert\u001b[0m \u001b[0mpart_1_result\u001b[0m\u001b[0;34m[\u001b[0m\u001b[0;34m\"solution_correct\"\u001b[0m\u001b[0;34m]\u001b[0m \u001b[0;34m==\u001b[0m \u001b[0;34m\"correct\"\u001b[0m\u001b[0;34m\u001b[0m\u001b[0;34m\u001b[0m\u001b[0m\n\u001b[0m",
      "\u001b[0;31mAssertionError\u001b[0m: "
     ]
    }
   ],
   "metadata": {}
  },
  {
   "cell_type": "markdown",
   "source": [
    "## Part II: Changing the Score Message - OTP"
   ],
   "metadata": {}
  },
  {
   "cell_type": "code",
   "execution_count": 30,
   "source": [
    "response = client.get_score_msg_cipher()\n",
    "print(response)"
   ],
   "outputs": [
    {
     "output_type": "stream",
     "name": "stdout",
     "text": [
      "{'cipher': 'q9JZfVmaUTP6yY+H/woZfoYLsPSClAqQd/LMCvOL/msbSz5jmNB4+9Ni86s=', 'hint': 'it is a OTP, you will not be able to guess it, find a way to edit the message without the OTP key', 'success': True}\n"
     ]
    }
   ],
   "metadata": {}
  },
  {
   "cell_type": "code",
   "execution_count": 31,
   "source": [
    "cipher = client.base64_decode_bytes(response[\"cipher\"])\n",
    "print(cipher)"
   ],
   "outputs": [
    {
     "output_type": "stream",
     "name": "stdout",
     "text": [
      "b'\\xab\\xd2Y}Y\\x9aQ3\\xfa\\xc9\\x8f\\x87\\xff\\n\\x19~\\x86\\x0b\\xb0\\xf4\\x82\\x94\\n\\x90w\\xf2\\xcc\\n\\xf3\\x8b\\xfek\\x1bK>c\\x98\\xd0x\\xfb\\xd3b\\xf3\\xab'\n"
     ]
    }
   ],
   "metadata": {}
  },
  {
   "cell_type": "code",
   "execution_count": 32,
   "source": [
    "encoded_cipher = client.base64_encode_bytes(cipher)\n",
    "response = client.submit_score_msg_cipher(encoded_cipher)\n",
    "target_string = f'Student ID {uid} gets a total of 9 points!'.encode()"
   ],
   "outputs": [],
   "metadata": {}
  },
  {
   "cell_type": "code",
   "execution_count": 33,
   "source": [
    "# Cancel off the original message due to XOR's self-inverse property.\n",
    "# This way, we are able to modify the original plaintext message and compromise its integrity without even knowing the key/OTP used by the server.\n",
    "def hax():\n",
    "    return XOR(cipher, XOR(response[\"plaintext\"].encode(), target_string))\n",
    "\n",
    "new_cipher = hax()\n",
    "encoded_new_cipher = client.base64_encode_bytes(new_cipher)\n",
    "client.submit_score_msg_cipher(encoded_new_cipher)"
   ],
   "outputs": [
    {
     "output_type": "execute_result",
     "data": {
      "text/plain": [
       "{'plaintext': 'Student ID 1004555 gets a total of 9 points!', 'success': True}"
      ]
     },
     "metadata": {},
     "execution_count": 33
    }
   ],
   "metadata": {}
  },
  {
   "cell_type": "code",
   "execution_count": null,
   "source": [],
   "outputs": [],
   "metadata": {}
  }
 ],
 "metadata": {
  "kernelspec": {
   "name": "python3",
   "display_name": "Python 3.8.11 64-bit"
  },
  "language_info": {
   "codemirror_mode": {
    "name": "ipython",
    "version": 3
   },
   "file_extension": ".py",
   "mimetype": "text/x-python",
   "name": "python",
   "nbconvert_exporter": "python",
   "pygments_lexer": "ipython3",
   "version": "3.8.11"
  },
  "interpreter": {
   "hash": "31f2aee4e71d21fbe5cf8b01ff0e069b9275f58929596ceb00d14d90e3e16cd6"
  }
 },
 "nbformat": 4,
 "nbformat_minor": 5
}