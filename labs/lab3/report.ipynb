{
 "cells": [
  {
   "cell_type": "markdown",
   "source": [
    "# FCS Lab 3 - MD5, Rainbow Tables"
   ],
   "metadata": {}
  },
  {
   "cell_type": "markdown",
   "source": [
    "* Name(s): James Raphael Tiovalen\n",
    "* Student ID(s): 1004555"
   ],
   "metadata": {}
  },
  {
   "cell_type": "markdown",
   "source": [
    "## Part I: Hashing Using MD5\n",
    "\n",
    "* How does the length of the hash correspond to the input string?"
   ],
   "metadata": {}
  },
  {
   "cell_type": "markdown",
   "source": [
    "The length of the hash is **always the same** (128 bits), irrespective of what the input string's length is."
   ],
   "metadata": {}
  },
  {
   "cell_type": "markdown",
   "source": [
    "* Are there any visible correlations between the hash and the input string?"
   ],
   "metadata": {}
  },
  {
   "cell_type": "markdown",
   "source": [
    "There are approximately no naively visible correlations on first glance, although closer inspection and analysis might reveal some underlying intricate small correlations (as demonstrated [here](https://www.links.org/?p=6)). While we ideally would like exactly zero correlation and no dependency at all between input strings and hashes, it is really difficult in real life to develop/invent/obtain such a perfect hash function."
   ],
   "metadata": {}
  },
  {
   "cell_type": "markdown",
   "source": [
    "* What are the issues related to the cryptographic weakness of MD5?"
   ],
   "metadata": {}
  },
  {
   "cell_type": "markdown",
   "source": [
    "MD5 is vulnerable to the \"chosen prefix attack\", which allows attackers to generate hash collisions fairly easily/trivially by today's standards of computing power."
   ],
   "metadata": {}
  },
  {
   "cell_type": "markdown",
   "source": [
    "## Part II: Break Hashes with Brute Force\n",
    "\n",
    "* How much time did you take in total?"
   ],
   "metadata": {}
  },
  {
   "cell_type": "markdown",
   "source": [],
   "metadata": {}
  },
  {
   "cell_type": "markdown",
   "source": [
    "* How much time does it take to crack each string, on average?"
   ],
   "metadata": {}
  },
  {
   "cell_type": "markdown",
   "source": [],
   "metadata": {}
  },
  {
   "cell_type": "markdown",
   "source": [
    "* Is it possible to amortize (gradually write off the initial cost of) the brute forcing attempts?"
   ],
   "metadata": {}
  },
  {
   "cell_type": "markdown",
   "source": [
    "Yes, it is possible. This can be done either via forming lookup tables or by creating rainbow tables to store the initial hashes and brute forcing attempts."
   ],
   "metadata": {}
  },
  {
   "cell_type": "markdown",
   "source": [
    "## Part III: Creating Rainbow Tables\n",
    "\n",
    "* Is rcrack faster/slower than your script ex2.py? By how much faster/slower is it?"
   ],
   "metadata": {}
  },
  {
   "cell_type": "markdown",
   "source": [],
   "metadata": {}
  },
  {
   "cell_type": "markdown",
   "source": [
    "* Do you observe any advantages or disadvantages of using rainbowcrack?"
   ],
   "metadata": {}
  },
  {
   "cell_type": "markdown",
   "source": [],
   "metadata": {}
  },
  {
   "cell_type": "markdown",
   "source": [
    "## Part IV: Salt\n",
    "\n",
    "* What is the observed differences between your ease of cracking the salted vs the unsalted plaintexts?"
   ],
   "metadata": {}
  },
  {
   "cell_type": "markdown",
   "source": [
    "For salted plaintexts, we are not able to amortize the brute forcing attempts since we cannot \"remove the salt\" from the salted plaintexts."
   ],
   "metadata": {}
  },
  {
   "cell_type": "markdown",
   "source": [
    "* Report the difference in time observed to crack."
   ],
   "metadata": {}
  },
  {
   "cell_type": "markdown",
   "source": [],
   "metadata": {}
  },
  {
   "cell_type": "markdown",
   "source": [
    "* Explain any differences between salted and non salted rcrack strategies."
   ],
   "metadata": {}
  },
  {
   "cell_type": "markdown",
   "source": [],
   "metadata": {}
  },
  {
   "cell_type": "markdown",
   "source": [
    "## Part V: Hash Breaking Competition\n",
    "\n",
    "* What is the approach you used to crack the hashes?"
   ],
   "metadata": {}
  },
  {
   "cell_type": "markdown",
   "source": [],
   "metadata": {}
  },
  {
   "cell_type": "markdown",
   "source": [
    "* How you decided or designed your approach?"
   ],
   "metadata": {}
  },
  {
   "cell_type": "markdown",
   "source": [],
   "metadata": {}
  },
  {
   "cell_type": "markdown",
   "source": [
    "* What are the main challenges and limitations of your approach?"
   ],
   "metadata": {}
  },
  {
   "cell_type": "markdown",
   "source": [],
   "metadata": {}
  }
 ],
 "metadata": {
  "kernelspec": {
   "display_name": "Python 3",
   "language": "python",
   "name": "python3"
  },
  "language_info": {
   "codemirror_mode": {
    "name": "ipython",
    "version": 3
   },
   "file_extension": ".py",
   "mimetype": "text/x-python",
   "name": "python",
   "nbconvert_exporter": "python",
   "pygments_lexer": "ipython3",
   "version": "3.9.1"
  }
 },
 "nbformat": 4,
 "nbformat_minor": 5
}