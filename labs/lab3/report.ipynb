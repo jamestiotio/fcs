{
 "cells": [
  {
   "cell_type": "markdown",
   "source": [
    "# FCS Lab 3 - MD5, Rainbow Tables"
   ],
   "metadata": {}
  },
  {
   "cell_type": "markdown",
   "source": [
    "* Name(s): James Raphael Tiovalen\n",
    "* Student ID(s): 1004555"
   ],
   "metadata": {}
  },
  {
   "cell_type": "markdown",
   "source": [
    "## Part I: Hashing Using MD5\n",
    "\n",
    "* How does the length of the hash correspond to the input string?"
   ],
   "metadata": {}
  },
  {
   "cell_type": "markdown",
   "source": [
    "The length of the hash is **always the same** (128 bits or 32 lowercase alphanumeric characters), irrespective of what the input string's length is. Some examples to serve as demonstrations:"
   ],
   "metadata": {}
  },
  {
   "cell_type": "code",
   "execution_count": 33,
   "source": [
    "!echo -n \"\" | md5sum"
   ],
   "outputs": [
    {
     "output_type": "stream",
     "name": "stdout",
     "text": [
      "d41d8cd98f00b204e9800998ecf8427e  -\n"
     ]
    }
   ],
   "metadata": {}
  },
  {
   "cell_type": "code",
   "execution_count": 34,
   "source": [
    "!echo -n \"foobar\" | md5sum"
   ],
   "outputs": [
    {
     "output_type": "stream",
     "name": "stdout",
     "text": [
      "3858f62230ac3c915f300c664312c63f  -\n"
     ]
    }
   ],
   "metadata": {}
  },
  {
   "cell_type": "code",
   "execution_count": 35,
   "source": [
    "!echo -n \"Foundations of Cybersecurity\" | md5sum"
   ],
   "outputs": [
    {
     "output_type": "stream",
     "name": "stdout",
     "text": [
      "4a9d1841ca774cb27461b4dfebb00761  -\n"
     ]
    }
   ],
   "metadata": {}
  },
  {
   "cell_type": "code",
   "execution_count": 36,
   "source": [
    "!echo -n \"The FitnessGram™ Pacer Test is a multistage aerobic capacity test that progressively gets more difficult as it continues. The 20 meter pacer test will begin in 30 seconds. Line up at the start. The running speed starts slowly, but gets faster each minute after you hear this signal. [beep] A single lap should be completed each time you hear this sound. [ding] Remember to run in a straight line, and run as long as possible. The second time you fail to complete a lap before the sound, your test is over. The test will begin on the word start. On your mark, get ready, start!\" | md5sum"
   ],
   "outputs": [
    {
     "output_type": "stream",
     "name": "stdout",
     "text": [
      "50be91caa7c7185f8d989bb3fbadb2d8  -\n"
     ]
    }
   ],
   "metadata": {}
  },
  {
   "cell_type": "code",
   "execution_count": 37,
   "source": [
    "!echo -n \"Glasses are really versatile. First, you can have glasses-wearing girls take them off and suddenly become beautiful, or have girls wearing glasses flashing those cute grins, or have girls stealing the protagonist's glasses and putting them on like, \\\"Haha, got your glasses!\\\" That's just way too cute! Also, boys with glasses! I really like when their glasses have that suspicious looking gleam, and it's amazing how it can look really cool or just be a joke. I really like how it can fulfill all those abstract needs. Being able to switch up the styles and colors of glasses based on your mood is a lot of fun too! It's actually so much fun! You have those half rim glasses, or the thick frame glasses, everything! It's like you're enjoying all these kinds of glasses at a buffet. I really want Luna to try some on or Marine to try some on to replace her eyepatch. We really need glasses to become a thing in Hololive and start selling them for HOLOCOMI. Don't. You. Think. We. Really. Need. To. Officially. Give. Everyone. Glasses?\" | md5sum"
   ],
   "outputs": [
    {
     "output_type": "stream",
     "name": "stdout",
     "text": [
      "955d81541f415e61189b29f6c89db548  -\n"
     ]
    }
   ],
   "metadata": {}
  },
  {
   "cell_type": "markdown",
   "source": [
    "* Are there any visible correlations between the hash and the input string?"
   ],
   "metadata": {}
  },
  {
   "cell_type": "markdown",
   "source": [
    "There are approximately no naively visible correlations on first glance, although much closer inspection and analysis done by cybersecurity experts might reveal some underlying intricate small correlations (as demonstrated [here](https://www.links.org/?p=6)). While we ideally would like exactly zero correlation and no dependency at all between input strings and hashes, it is really difficult in real life to develop/invent/obtain such a perfect hash function. That said, existing hash functions are good enough, at least for the time being."
   ],
   "metadata": {}
  },
  {
   "cell_type": "markdown",
   "source": [
    "* What are the issues related to the cryptographic weakness of MD5?"
   ],
   "metadata": {}
  },
  {
   "cell_type": "markdown",
   "source": [
    "MD5 is vulnerable to the \"chosen-prefix collision attack\", which allows attackers to generate hash collisions fairly easily/trivially by today's standards of computing power."
   ],
   "metadata": {}
  },
  {
   "cell_type": "markdown",
   "source": [
    "## Part II: Break Hashes with Brute Force\n",
    "\n",
    "* How much time did you take in total?"
   ],
   "metadata": {}
  },
  {
   "cell_type": "markdown",
   "source": [
    "We select the following constraints that we were given as the potential choice of characters for the 5-characters plaintext:\n",
    "- `string.ascii_lowercase`\n",
    "- `string.digits`\n",
    "\n",
    "As such, using our brute force method, the time taken to crack/reverse all 15 hashes is around **655.34** seconds."
   ],
   "metadata": {}
  },
  {
   "cell_type": "markdown",
   "source": [
    "* How much time does it take to crack each string, on average?"
   ],
   "metadata": {}
  },
  {
   "cell_type": "markdown",
   "source": [
    "It takes about 655.34 / 15 = **43.69** seconds to crack each string on average."
   ],
   "metadata": {}
  },
  {
   "cell_type": "markdown",
   "source": [
    "* Is it possible to amortize (gradually write off the initial cost of) the brute forcing attempts?"
   ],
   "metadata": {}
  },
  {
   "cell_type": "markdown",
   "source": [
    "Yes, it is possible. This can be done either via forming lookup tables or by creating rainbow tables to store the initial hashes and brute forcing attempts."
   ],
   "metadata": {}
  },
  {
   "cell_type": "markdown",
   "source": [
    "## Part III: Creating Rainbow Tables\r\n",
    "\r\n",
    "* Is rcrack faster/slower than your script ex2.py? By how much faster/slower is it?"
   ],
   "metadata": {}
  },
  {
   "cell_type": "markdown",
   "source": [
    "`rcrack` is faster than my `ex2.py` script by around 655.34 - 2.54 = **652.8** seconds. Evidence shown below.\n",
    "\n",
    "Obviously, execution time of `rcrack` would be much faster since it is evident that most of the time was spent generating the rainbow tables instead (`rtgen` took around 29.2 seconds to generate a rainbow table of size 9600000 bytes). This is because the runtime of a hash table lookup is much lower than generating said hash table. We can also see that `rcrack` spent most of the time in chain traversal (to do the lookup)."
   ],
   "metadata": {}
  },
  {
   "cell_type": "code",
   "execution_count": 38,
   "source": [
    "!cd ./rainbowcrack-1.8-linux64/ && ./rtgen md5 loweralpha-numeric 5 5 0 3800 600000 0\n",
    "!cd ./rainbowcrack-1.8-linux64/ && ./rtsort .\n",
    "!cd ./rainbowcrack-1.8-linux64/ && ./rcrack . -l ../hash5.txt"
   ],
   "outputs": [
    {
     "output_type": "stream",
     "name": "stdout",
     "text": [
      "rainbow table md5_loweralpha-numeric#5-5_0_3800x600000_0.rt parameters\n",
      "hash algorithm:         md5\n",
      "hash length:            16\n",
      "charset name:           loweralpha-numeric\n",
      "charset data:           abcdefghijklmnopqrstuvwxyz0123456789\n",
      "charset data in hex:    61 62 63 64 65 66 67 68 69 6a 6b 6c 6d 6e 6f 70 71 72 73 74 75 76 77 78 79 7a 30 31 32 33 34 35 36 37 38 39 \n",
      "charset length:         36\n",
      "plaintext length range: 5 - 5\n",
      "reduce offset:          0x00000000\n",
      "plaintext total:        60466176\n",
      "\n",
      "sequential starting point begin from 0 (0x0000000000000000)\n",
      "generating...\n",
      "524288 of 600000 rainbow chains generated (0 m 25.5 s)\n",
      "600000 of 600000 rainbow chains generated (0 m 3.7 s)\n",
      "./md5_loweralpha-numeric#5-5_0_3800x600000_0.rt:\n",
      "7943958528 bytes memory available\n",
      "loading data...\n",
      "sorting data...\n",
      "writing sorted data...\n",
      "\n",
      "1 rainbow tables found\n",
      "memory available: 6339808460 bytes\n",
      "memory for rainbow chain traverse: 60800 bytes per hash, 912000 bytes for 15 hashes\n",
      "memory for rainbow table buffer: 2 x 9600016 bytes\n",
      "disk: ./md5_loweralpha-numeric#5-5_0_3800x600000_0.rt: 9600000 bytes read\n",
      "disk: finished reading all files\n",
      "plaintext of a92b66a9802704ca8616c4b092378272 is opmen\n",
      "plaintext of 81466b6bb4be5a48e2230be1338bcde6 is lou0g\n",
      "plaintext of 836626589007d7dd5304c8d22815fffc is di5gv\n",
      "plaintext of 1b31905c59f481958d2eb72158c27ac7 is egunb\n",
      "plaintext of 1b4baba3ae3be69857b323cf6b7fcd80 is sso55\n",
      "plaintext of 78c1b8edd1bc3ffc438432479289a9e1 is nized\n",
      "plaintext of 0d5b558d5f6744deaaf5b016c6c77a57 is tpoin\n",
      "plaintext of a8218c67a5b4e652e30a59372e07df59 is hed4e\n",
      "plaintext of a74edf83748e3c4fa5f31ec10bad79db is dsmto\n",
      "plaintext of ddaafa5d551a582bc924d09cc8d33ee5 is aseas\n",
      "plaintext of 6e313b70d12de950443527a33d802b76 is mlhdi\n",
      "plaintext of d4efdba5e9725e77c9b9051fa8136f0a is tthel\n",
      "plaintext of 644674d142ba2174a80889f833b32563 is owso9\n",
      "plaintext of de952f5454fb0ee79bca249f80e9fe8f is ofror\n",
      "plaintext of 96f6065d8f2dd1376eff88fba65d1d83 is cance\n",
      "\n",
      "statistics\n",
      "----------------------------------------------------------------\n",
      "plaintext found:                             15 of 15\n",
      "total time:                                  2.54 s\n",
      "time of chain traverse:                      1.54 s\n",
      "time of alarm check:                         0.95 s\n",
      "time of disk read:                           0.01 s\n",
      "hash & reduce calculation of chain traverse: 108243000\n",
      "hash & reduce calculation of alarm check:    42209684\n",
      "number of alarm:                             144932\n",
      "performance of chain traverse:               70.01 million/s\n",
      "performance of alarm check:                  44.48 million/s\n",
      "\n",
      "result\n",
      "----------------------------------------------------------------\n",
      "a92b66a9802704ca8616c4b092378272  opmen  hex:6f706d656e\n",
      "d4efdba5e9725e77c9b9051fa8136f0a  tthel  hex:747468656c\n",
      "96f6065d8f2dd1376eff88fba65d1d83  cance  hex:63616e6365\n",
      "78c1b8edd1bc3ffc438432479289a9e1  nized  hex:6e697a6564\n",
      "0d5b558d5f6744deaaf5b016c6c77a57  tpoin  hex:74706f696e\n",
      "ddaafa5d551a582bc924d09cc8d33ee5  aseas  hex:6173656173\n",
      "a74edf83748e3c4fa5f31ec10bad79db  dsmto  hex:64736d746f\n",
      "1b31905c59f481958d2eb72158c27ac7  egunb  hex:6567756e62\n",
      "6e313b70d12de950443527a33d802b76  mlhdi  hex:6d6c686469\n",
      "de952f5454fb0ee79bca249f80e9fe8f  ofror  hex:6f66726f72\n",
      "a8218c67a5b4e652e30a59372e07df59  hed4e  hex:6865643465\n",
      "836626589007d7dd5304c8d22815fffc  di5gv  hex:6469356776\n",
      "644674d142ba2174a80889f833b32563  owso9  hex:6f77736f39\n",
      "1b4baba3ae3be69857b323cf6b7fcd80  sso55  hex:73736f3535\n",
      "81466b6bb4be5a48e2230be1338bcde6  lou0g  hex:6c6f753067\n"
     ]
    }
   ],
   "metadata": {}
  },
  {
   "cell_type": "markdown",
   "source": [
    "* Do you observe any advantages or disadvantages of using rainbowcrack?"
   ],
   "metadata": {}
  },
  {
   "cell_type": "markdown",
   "source": [
    "Using `rainbowcrack` (and rainbow tables in general) is advantageous when we are cracking multiple hashes. This is because it can be used to repeatedly attack other plaintexts with potentially a much faster speed than dictionary or bruteforce attacks. A meet-in-the-middle approach is also employed, allowing us to utilize some space to store some of the precomputed values and enabling us to achieve faster cracking time.\n",
    "\n",
    "However, when we are cracking only a single hash, there is no point in using `rainbowcrack` (or rainbow tables in general) since the upper bound of the time complexity would be the same as bruteforce (potentially even worse in practical real-life applications since we need to compute the entire table regardless of the desired plaintext/hash's position in the chains). Another possible disadvantage would be in the case whereby we are low on space or memory capacity. In such a scenario, it would not be advisable to use `rainbowcrack` or rainbow tables."
   ],
   "metadata": {}
  },
  {
   "cell_type": "markdown",
   "source": [
    "## Part IV: Salt\n",
    "\n",
    "* What is the observed differences between your ease of cracking the salted vs the unsalted plaintexts?"
   ],
   "metadata": {}
  },
  {
   "cell_type": "markdown",
   "source": [
    "For salted plaintexts, we are not able to amortize the brute forcing attempts since we cannot \"remove the salt\" from the salted plaintexts. As such, it is more difficult to crack the salted plaintexts as compared to the unsalted plaintexts."
   ],
   "metadata": {}
  },
  {
   "cell_type": "markdown",
   "source": [
    "* Report the difference in time observed to crack."
   ],
   "metadata": {}
  },
  {
   "cell_type": "markdown",
   "source": [
    "Time taken to crack the salted hashes is significantly longer as compared to the time taken to crack the unsalted hashes.\n",
    "\n",
    "As shown below, comparing to the attempt with same parameters to serve as a basis of comparison, we can clearly see that while `rtgen` takes around the same time to generate the rainbow tables (about 29.0 seconds) as for the unsalted case, the time taken to crack the salted hashes significantly increases to 27.34 seconds, and not all salted hashes were cracked by `rcrack`."
   ],
   "metadata": {}
  },
  {
   "cell_type": "code",
   "execution_count": 39,
   "source": [
    "# Use same parameters\n",
    "!cd ./rainbowcrack-1.8-linux64/ && ./rtgen md5 loweralpha-numeric 6 6 0 3800 600000 0\n",
    "!cd ./rainbowcrack-1.8-linux64/ && ./rtsort .\n",
    "!cd ./rainbowcrack-1.8-linux64/ && ./rcrack . -l ../salted6.txt"
   ],
   "outputs": [
    {
     "output_type": "stream",
     "name": "stdout",
     "text": [
      "rainbow table md5_loweralpha-numeric#6-6_0_3800x600000_0.rt parameters\n",
      "hash algorithm:         md5\n",
      "hash length:            16\n",
      "charset name:           loweralpha-numeric\n",
      "charset data:           abcdefghijklmnopqrstuvwxyz0123456789\n",
      "charset data in hex:    61 62 63 64 65 66 67 68 69 6a 6b 6c 6d 6e 6f 70 71 72 73 74 75 76 77 78 79 7a 30 31 32 33 34 35 36 37 38 39 \n",
      "charset length:         36\n",
      "plaintext length range: 6 - 6\n",
      "reduce offset:          0x00000000\n",
      "plaintext total:        2176782336\n",
      "\n",
      "sequential starting point begin from 0 (0x0000000000000000)\n",
      "generating...\n",
      "524288 of 600000 rainbow chains generated (0 m 25.4 s)\n",
      "600000 of 600000 rainbow chains generated (0 m 3.6 s)\n",
      "./md5_loweralpha-numeric#5-5_0_3800x600000_0.rt:\n",
      "8019419136 bytes memory available\n",
      "loading data...\n",
      "sorting data...\n",
      "writing sorted data...\n",
      "\n",
      "./md5_loweralpha-numeric#6-6_0_3800x600000_0.rt:\n",
      "8017801216 bytes memory available\n",
      "loading data...\n",
      "sorting data...\n",
      "writing sorted data...\n",
      "\n",
      "2 rainbow tables found\n",
      "memory available: 6416118579 bytes\n",
      "memory for rainbow chain traverse: 60800 bytes per hash, 912000 bytes for 15 hashes\n",
      "memory for rainbow table buffer: 2 x 9600016 bytes\n",
      "disk: ./md5_loweralpha-numeric#5-5_0_3800x600000_0.rt: 9600000 bytes read\n",
      "disk: ./md5_loweralpha-numeric#6-6_0_3800x600000_0.rt: 9600000 bytes read\n",
      "disk: finished reading all files\n",
      "plaintext of fe50a480779594ca2c5b3dd75d69462a is sso55u\n",
      "plaintext of 9692c6314554c514ad4aa78856dde2fb is lou0gj\n",
      "plaintext of 7cc7fdaf74697df714b383e34071b618 is dsmtoa\n",
      "plaintext of 4ea86fdabe887e5f2ede6bc8df169162 is di5gvg\n",
      "plaintext of 97ab41e42ee389579126382ee1b8b6b4 is mlhdid\n",
      "plaintext of 995679cd637bff50dda0b4b0a6761ce7 is nizedd\n",
      "plaintext of 2232531d6d5664bc72c1195a054d04b6 is egunbf\n",
      "plaintext of 139a169c1c3910c0ef45fdac62dc1209 is opment\n",
      "\n",
      "statistics\n",
      "----------------------------------------------------------------\n",
      "plaintext found:                             8 of 15\n",
      "total time:                                  27.34 s\n",
      "time of chain traverse:                      3.20 s\n",
      "time of alarm check:                         23.66 s\n",
      "time of disk read:                           0.01 s\n",
      "hash & reduce calculation of chain traverse: 216486000\n",
      "hash & reduce calculation of alarm check:    1386135307\n",
      "number of alarm:                             1095459\n",
      "performance of chain traverse:               67.65 million/s\n",
      "performance of alarm check:                  58.58 million/s\n",
      "\n",
      "result\n",
      "----------------------------------------------------------------\n",
      "139a169c1c3910c0ef45fdac62dc1209  opment  hex:6f706d656e74\n",
      "429a6e9dceb84025f5faf62ae482d2d6  <not found>  hex:<not found>\n",
      "a217722333e8467ad2cef90035a1ee5c  <not found>  hex:<not found>\n",
      "995679cd637bff50dda0b4b0a6761ce7  nizedd  hex:6e697a656464\n",
      "d1cfe81fc9795ad28b9be74be42b65c0  <not found>  hex:<not found>\n",
      "5b307c6af9c36f8bc21273c386e4c47c  <not found>  hex:<not found>\n",
      "7cc7fdaf74697df714b383e34071b618  dsmtoa  hex:64736d746f61\n",
      "2232531d6d5664bc72c1195a054d04b6  egunbf  hex:6567756e6266\n",
      "97ab41e42ee389579126382ee1b8b6b4  mlhdid  hex:6d6c68646964\n",
      "8decd5602eee3b0e7113e6a5e7ac699f  <not found>  hex:<not found>\n",
      "b95fdd0f9f4fe555a4e7b19d18117d60  <not found>  hex:<not found>\n",
      "4ea86fdabe887e5f2ede6bc8df169162  di5gvg  hex:646935677667\n",
      "9aea2b74dbd7837d49dcd3e2457fd59a  <not found>  hex:<not found>\n",
      "fe50a480779594ca2c5b3dd75d69462a  sso55u  hex:73736f353575\n",
      "9692c6314554c514ad4aa78856dde2fb  lou0gj  hex:6c6f7530676a\n"
     ]
    }
   ],
   "metadata": {}
  },
  {
   "cell_type": "code",
   "execution_count": 53,
   "source": [
    "# Use custom parameters (by inspection, exploration, and trial-and-error)\n",
    "# We use the same reduction function (same `table_index`) but we keep generating multiple consecutive chains (`part_index`) sequentially until we can crack all 15 hashes (to avoid needing to generate all 26 parts)\n",
    "!cd ./rainbowcrack-1.8-linux64/ && for i in {1..10}; do ./rtgen md5 loweralpha-numeric 6 6 0 3800 600000 $i; done\n",
    "!cd ./rainbowcrack-1.8-linux64/ && ./rtsort .\n",
    "!cd ./rainbowcrack-1.8-linux64/ && ./rcrack . -l ../salted6.txt"
   ],
   "outputs": [
    {
     "output_type": "stream",
     "name": "stdout",
     "text": [
      "rainbow table md5_loweralpha-numeric#6-6_0_3800x600000_1.rt parameters\n",
      "hash algorithm:         md5\n",
      "hash length:            16\n",
      "charset name:           loweralpha-numeric\n",
      "charset data:           abcdefghijklmnopqrstuvwxyz0123456789\n",
      "charset data in hex:    61 62 63 64 65 66 67 68 69 6a 6b 6c 6d 6e 6f 70 71 72 73 74 75 76 77 78 79 7a 30 31 32 33 34 35 36 37 38 39 \n",
      "charset length:         36\n",
      "plaintext length range: 6 - 6\n",
      "reduce offset:          0x00000000\n",
      "plaintext total:        2176782336\n",
      "\n",
      "sequential starting point begin from 600000 (0x00000000000927c0)\n",
      "generating...\n",
      "524288 of 600000 rainbow chains generated (0 m 26.1 s)\n",
      "600000 of 600000 rainbow chains generated (0 m 4.1 s)\n",
      "rainbow table md5_loweralpha-numeric#6-6_0_3800x600000_2.rt parameters\n",
      "hash algorithm:         md5\n",
      "hash length:            16\n",
      "charset name:           loweralpha-numeric\n",
      "charset data:           abcdefghijklmnopqrstuvwxyz0123456789\n",
      "charset data in hex:    61 62 63 64 65 66 67 68 69 6a 6b 6c 6d 6e 6f 70 71 72 73 74 75 76 77 78 79 7a 30 31 32 33 34 35 36 37 38 39 \n",
      "charset length:         36\n",
      "plaintext length range: 6 - 6\n",
      "reduce offset:          0x00000000\n",
      "plaintext total:        2176782336\n",
      "\n",
      "sequential starting point begin from 1200000 (0x0000000000124f80)\n",
      "generating...\n",
      "524288 of 600000 rainbow chains generated (0 m 27.8 s)\n",
      "600000 of 600000 rainbow chains generated (0 m 4.9 s)\n",
      "rainbow table md5_loweralpha-numeric#6-6_0_3800x600000_3.rt parameters\n",
      "hash algorithm:         md5\n",
      "hash length:            16\n",
      "charset name:           loweralpha-numeric\n",
      "charset data:           abcdefghijklmnopqrstuvwxyz0123456789\n",
      "charset data in hex:    61 62 63 64 65 66 67 68 69 6a 6b 6c 6d 6e 6f 70 71 72 73 74 75 76 77 78 79 7a 30 31 32 33 34 35 36 37 38 39 \n",
      "charset length:         36\n",
      "plaintext length range: 6 - 6\n",
      "reduce offset:          0x00000000\n",
      "plaintext total:        2176782336\n",
      "\n",
      "sequential starting point begin from 1800000 (0x00000000001b7740)\n",
      "generating...\n",
      "524288 of 600000 rainbow chains generated (0 m 31.7 s)\n",
      "600000 of 600000 rainbow chains generated (0 m 4.6 s)\n",
      "rainbow table md5_loweralpha-numeric#6-6_0_3800x600000_4.rt parameters\n",
      "hash algorithm:         md5\n",
      "hash length:            16\n",
      "charset name:           loweralpha-numeric\n",
      "charset data:           abcdefghijklmnopqrstuvwxyz0123456789\n",
      "charset data in hex:    61 62 63 64 65 66 67 68 69 6a 6b 6c 6d 6e 6f 70 71 72 73 74 75 76 77 78 79 7a 30 31 32 33 34 35 36 37 38 39 \n",
      "charset length:         36\n",
      "plaintext length range: 6 - 6\n",
      "reduce offset:          0x00000000\n",
      "plaintext total:        2176782336\n",
      "\n",
      "sequential starting point begin from 2400000 (0x0000000000249f00)\n",
      "generating...\n",
      "524288 of 600000 rainbow chains generated (0 m 32.7 s)\n",
      "600000 of 600000 rainbow chains generated (0 m 4.9 s)\n",
      "rainbow table md5_loweralpha-numeric#6-6_0_3800x600000_5.rt parameters\n",
      "hash algorithm:         md5\n",
      "hash length:            16\n",
      "charset name:           loweralpha-numeric\n",
      "charset data:           abcdefghijklmnopqrstuvwxyz0123456789\n",
      "charset data in hex:    61 62 63 64 65 66 67 68 69 6a 6b 6c 6d 6e 6f 70 71 72 73 74 75 76 77 78 79 7a 30 31 32 33 34 35 36 37 38 39 \n",
      "charset length:         36\n",
      "plaintext length range: 6 - 6\n",
      "reduce offset:          0x00000000\n",
      "plaintext total:        2176782336\n",
      "\n",
      "sequential starting point begin from 3000000 (0x00000000002dc6c0)\n",
      "generating...\n",
      "524288 of 600000 rainbow chains generated (0 m 33.3 s)\n",
      "600000 of 600000 rainbow chains generated (0 m 5.0 s)\n",
      "rainbow table md5_loweralpha-numeric#6-6_0_3800x600000_6.rt parameters\n",
      "hash algorithm:         md5\n",
      "hash length:            16\n",
      "charset name:           loweralpha-numeric\n",
      "charset data:           abcdefghijklmnopqrstuvwxyz0123456789\n",
      "charset data in hex:    61 62 63 64 65 66 67 68 69 6a 6b 6c 6d 6e 6f 70 71 72 73 74 75 76 77 78 79 7a 30 31 32 33 34 35 36 37 38 39 \n",
      "charset length:         36\n",
      "plaintext length range: 6 - 6\n",
      "reduce offset:          0x00000000\n",
      "plaintext total:        2176782336\n",
      "\n",
      "sequential starting point begin from 3600000 (0x000000000036ee80)\n",
      "generating...\n",
      "524288 of 600000 rainbow chains generated (0 m 32.9 s)\n",
      "600000 of 600000 rainbow chains generated (0 m 4.9 s)\n",
      "rainbow table md5_loweralpha-numeric#6-6_0_3800x600000_7.rt parameters\n",
      "hash algorithm:         md5\n",
      "hash length:            16\n",
      "charset name:           loweralpha-numeric\n",
      "charset data:           abcdefghijklmnopqrstuvwxyz0123456789\n",
      "charset data in hex:    61 62 63 64 65 66 67 68 69 6a 6b 6c 6d 6e 6f 70 71 72 73 74 75 76 77 78 79 7a 30 31 32 33 34 35 36 37 38 39 \n",
      "charset length:         36\n",
      "plaintext length range: 6 - 6\n",
      "reduce offset:          0x00000000\n",
      "plaintext total:        2176782336\n",
      "\n",
      "sequential starting point begin from 4200000 (0x0000000000401640)\n",
      "generating...\n",
      "524288 of 600000 rainbow chains generated (0 m 33.1 s)\n",
      "600000 of 600000 rainbow chains generated (0 m 4.8 s)\n",
      "rainbow table md5_loweralpha-numeric#6-6_0_3800x600000_8.rt parameters\n",
      "hash algorithm:         md5\n",
      "hash length:            16\n",
      "charset name:           loweralpha-numeric\n",
      "charset data:           abcdefghijklmnopqrstuvwxyz0123456789\n",
      "charset data in hex:    61 62 63 64 65 66 67 68 69 6a 6b 6c 6d 6e 6f 70 71 72 73 74 75 76 77 78 79 7a 30 31 32 33 34 35 36 37 38 39 \n",
      "charset length:         36\n",
      "plaintext length range: 6 - 6\n",
      "reduce offset:          0x00000000\n",
      "plaintext total:        2176782336\n",
      "\n",
      "sequential starting point begin from 4800000 (0x0000000000493e00)\n",
      "generating...\n",
      "524288 of 600000 rainbow chains generated (0 m 32.9 s)\n",
      "600000 of 600000 rainbow chains generated (0 m 4.8 s)\n",
      "rainbow table md5_loweralpha-numeric#6-6_0_3800x600000_9.rt parameters\n",
      "hash algorithm:         md5\n",
      "hash length:            16\n",
      "charset name:           loweralpha-numeric\n",
      "charset data:           abcdefghijklmnopqrstuvwxyz0123456789\n",
      "charset data in hex:    61 62 63 64 65 66 67 68 69 6a 6b 6c 6d 6e 6f 70 71 72 73 74 75 76 77 78 79 7a 30 31 32 33 34 35 36 37 38 39 \n",
      "charset length:         36\n",
      "plaintext length range: 6 - 6\n",
      "reduce offset:          0x00000000\n",
      "plaintext total:        2176782336\n",
      "\n",
      "sequential starting point begin from 5400000 (0x00000000005265c0)\n",
      "generating...\n",
      "524288 of 600000 rainbow chains generated (0 m 33.1 s)\n",
      "600000 of 600000 rainbow chains generated (0 m 4.8 s)\n",
      "rainbow table md5_loweralpha-numeric#6-6_0_3800x600000_10.rt parameters\n",
      "hash algorithm:         md5\n",
      "hash length:            16\n",
      "charset name:           loweralpha-numeric\n",
      "charset data:           abcdefghijklmnopqrstuvwxyz0123456789\n",
      "charset data in hex:    61 62 63 64 65 66 67 68 69 6a 6b 6c 6d 6e 6f 70 71 72 73 74 75 76 77 78 79 7a 30 31 32 33 34 35 36 37 38 39 \n",
      "charset length:         36\n",
      "plaintext length range: 6 - 6\n",
      "reduce offset:          0x00000000\n",
      "plaintext total:        2176782336\n",
      "\n",
      "sequential starting point begin from 6000000 (0x00000000005b8d80)\n",
      "generating...\n",
      "524288 of 600000 rainbow chains generated (0 m 32.2 s)\n",
      "600000 of 600000 rainbow chains generated (0 m 4.8 s)\n",
      "./md5_loweralpha-numeric#5-5_0_3800x600000_0.rt:\n",
      "7680987136 bytes memory available\n",
      "loading data...\n",
      "sorting data...\n",
      "writing sorted data...\n",
      "\n",
      "./md5_loweralpha-numeric#6-6_0_3800x600000_0.rt:\n",
      "7679508480 bytes memory available\n",
      "loading data...\n",
      "sorting data...\n",
      "writing sorted data...\n",
      "\n",
      "./md5_loweralpha-numeric#6-6_0_3800x600000_1.rt:\n",
      "7682576384 bytes memory available\n",
      "loading data...\n",
      "sorting data...\n",
      "writing sorted data...\n",
      "\n",
      "./md5_loweralpha-numeric#6-6_0_3800x600000_10.rt:\n",
      "7682842624 bytes memory available\n",
      "loading data...\n",
      "sorting data...\n",
      "writing sorted data...\n",
      "\n",
      "./md5_loweralpha-numeric#6-6_0_3800x600000_2.rt:\n",
      "7681056768 bytes memory available\n",
      "loading data...\n",
      "sorting data...\n",
      "writing sorted data...\n",
      "\n",
      "./md5_loweralpha-numeric#6-6_0_3800x600000_3.rt:\n",
      "7681581056 bytes memory available\n",
      "loading data...\n",
      "sorting data...\n",
      "writing sorted data...\n",
      "\n",
      "./md5_loweralpha-numeric#6-6_0_3800x600000_4.rt:\n",
      "7681560576 bytes memory available\n",
      "loading data...\n",
      "sorting data...\n",
      "writing sorted data...\n",
      "\n",
      "./md5_loweralpha-numeric#6-6_0_3800x600000_5.rt:\n",
      "7682584576 bytes memory available\n",
      "loading data...\n",
      "sorting data...\n",
      "writing sorted data...\n",
      "\n",
      "./md5_loweralpha-numeric#6-6_0_3800x600000_6.rt:\n",
      "7681277952 bytes memory available\n",
      "loading data...\n",
      "sorting data...\n",
      "writing sorted data...\n",
      "\n",
      "./md5_loweralpha-numeric#6-6_0_3800x600000_7.rt:\n",
      "7680925696 bytes memory available\n",
      "loading data...\n",
      "sorting data...\n",
      "writing sorted data...\n",
      "\n",
      "./md5_loweralpha-numeric#6-6_0_3800x600000_8.rt:\n",
      "7666364416 bytes memory available\n",
      "loading data...\n",
      "sorting data...\n",
      "writing sorted data...\n",
      "\n",
      "./md5_loweralpha-numeric#6-6_0_3800x600000_9.rt:\n",
      "7660339200 bytes memory available\n",
      "loading data...\n",
      "sorting data...\n",
      "writing sorted data...\n",
      "\n",
      "12 rainbow tables found\n",
      "memory available: 6124083609 bytes\n",
      "memory for rainbow chain traverse: 60800 bytes per hash, 912000 bytes for 15 hashes\n",
      "memory for rainbow table buffer: 12 x 9600016 bytes\n",
      "disk: ./md5_loweralpha-numeric#5-5_0_3800x600000_0.rt: 9600000 bytes read\n",
      "disk: ./md5_loweralpha-numeric#6-6_0_3800x600000_0.rt: 9600000 bytes read\n",
      "disk: ./md5_loweralpha-numeric#6-6_0_3800x600000_1.rt: 9600000 bytes read\n",
      "disk: ./md5_loweralpha-numeric#6-6_0_3800x600000_10.rt: 9600000 bytes read\n",
      "disk: ./md5_loweralpha-numeric#6-6_0_3800x600000_2.rt: 9600000 bytes read\n",
      "disk: ./md5_loweralpha-numeric#6-6_0_3800x600000_3.rt: 9600000 bytes read\n",
      "disk: ./md5_loweralpha-numeric#6-6_0_3800x600000_4.rt: 9600000 bytes read\n",
      "disk: ./md5_loweralpha-numeric#6-6_0_3800x600000_5.rt: 9600000 bytes read\n",
      "disk: ./md5_loweralpha-numeric#6-6_0_3800x600000_6.rt: 9600000 bytes read\n",
      "disk: ./md5_loweralpha-numeric#6-6_0_3800x600000_7.rt: 9600000 bytes read\n",
      "disk: ./md5_loweralpha-numeric#6-6_0_3800x600000_8.rt: 9600000 bytes read\n",
      "disk: ./md5_loweralpha-numeric#6-6_0_3800x600000_9.rt: 9600000 bytes read\n",
      "disk: finished reading all files\n",
      "plaintext of fe50a480779594ca2c5b3dd75d69462a is sso55u\n",
      "plaintext of 9692c6314554c514ad4aa78856dde2fb is lou0gj\n",
      "plaintext of 7cc7fdaf74697df714b383e34071b618 is dsmtoa\n",
      "plaintext of 4ea86fdabe887e5f2ede6bc8df169162 is di5gvg\n",
      "plaintext of 97ab41e42ee389579126382ee1b8b6b4 is mlhdid\n",
      "plaintext of 995679cd637bff50dda0b4b0a6761ce7 is nizedd\n",
      "plaintext of 2232531d6d5664bc72c1195a054d04b6 is egunbf\n",
      "plaintext of 139a169c1c3910c0ef45fdac62dc1209 is opment\n",
      "plaintext of a217722333e8467ad2cef90035a1ee5c is cancek\n",
      "plaintext of 5b307c6af9c36f8bc21273c386e4c47c is aseasg\n",
      "plaintext of d1cfe81fc9795ad28b9be74be42b65c0 is tpoinr\n",
      "plaintext of 429a6e9dceb84025f5faf62ae482d2d6 is tthelb\n",
      "plaintext of 8decd5602eee3b0e7113e6a5e7ac699f is ofrorm\n",
      "plaintext of 9aea2b74dbd7837d49dcd3e2457fd59a is owso9u\n",
      "plaintext of b95fdd0f9f4fe555a4e7b19d18117d60 is hed4ea\n",
      "\n",
      "statistics\n",
      "----------------------------------------------------------------\n",
      "plaintext found:                             15 of 15\n",
      "total time:                                  34.05 s\n",
      "time of chain traverse:                      4.47 s\n",
      "time of alarm check:                         28.99 s\n",
      "time of disk read:                           0.09 s\n",
      "hash & reduce calculation of chain traverse: 216486000\n",
      "hash & reduce calculation of alarm check:    1427861053\n",
      "number of alarm:                             1130302\n",
      "performance of chain traverse:               48.46 million/s\n",
      "performance of alarm check:                  49.24 million/s\n",
      "\n",
      "result\n",
      "----------------------------------------------------------------\n",
      "139a169c1c3910c0ef45fdac62dc1209  opment  hex:6f706d656e74\n",
      "429a6e9dceb84025f5faf62ae482d2d6  tthelb  hex:747468656c62\n",
      "a217722333e8467ad2cef90035a1ee5c  cancek  hex:63616e63656b\n",
      "995679cd637bff50dda0b4b0a6761ce7  nizedd  hex:6e697a656464\n",
      "d1cfe81fc9795ad28b9be74be42b65c0  tpoinr  hex:74706f696e72\n",
      "5b307c6af9c36f8bc21273c386e4c47c  aseasg  hex:617365617367\n",
      "7cc7fdaf74697df714b383e34071b618  dsmtoa  hex:64736d746f61\n",
      "2232531d6d5664bc72c1195a054d04b6  egunbf  hex:6567756e6266\n",
      "97ab41e42ee389579126382ee1b8b6b4  mlhdid  hex:6d6c68646964\n",
      "8decd5602eee3b0e7113e6a5e7ac699f  ofrorm  hex:6f66726f726d\n",
      "b95fdd0f9f4fe555a4e7b19d18117d60  hed4ea  hex:686564346561\n",
      "4ea86fdabe887e5f2ede6bc8df169162  di5gvg  hex:646935677667\n",
      "9aea2b74dbd7837d49dcd3e2457fd59a  owso9u  hex:6f77736f3975\n",
      "fe50a480779594ca2c5b3dd75d69462a  sso55u  hex:73736f353575\n",
      "9692c6314554c514ad4aa78856dde2fb  lou0gj  hex:6c6f7530676a\n"
     ]
    }
   ],
   "metadata": {}
  },
  {
   "cell_type": "markdown",
   "source": [
    "* Explain any differences between salted and non salted rcrack strategies."
   ],
   "metadata": {}
  },
  {
   "cell_type": "markdown",
   "source": [
    "Salted hashes require the computation of rainbow tables for **each** unique salt. This increase in the input space of possible hash-to-password pairs is why it takes a longer time to crack salted hashes (salted rcrack strategies) as compared to non-salted hashes (non-salted rcrack strategies).\n",
    "\n",
    "There is quite a drastic discrepancy in performance with even the addition of a one character salt. This shows the importance of salting. The purpose of salting is to deter rainbow attacks, given its ability to (variably) increase the original plaintext's length. Given the increase in possible input space by one character, an attacker would have to scale up their rainbow tables significantly. Even if such an attacker knows the information that only a 1-character salt was added (as well knowing that it is a lowercase letter), the attacker would still need to deal with a 26-fold multiplicative increase in the space of possible input plaintexts.\n",
    "\n",
    "In our case, while it is still technically feasible to compute all the rainbow tables for each salt since the salt's length is only 1 (one lowercase character), we would need to increase our used memory/storage space by 26 to store the 26-fold larger rainbow tables. Such amount of space might not be a luxury anymore, especially in lower end hardware systems. If we generate long salts uniquely attached to each plaintext, it would take a ridiculously large amount of time to compute **all** rainbow tables for **all** salts. As such, salting renders rainbow tables useless since storing extremely massive rainbow tables is impossible in practice, nullifying any possible tradeoff between space and computational time/effort."
   ],
   "metadata": {}
  },
  {
   "cell_type": "markdown",
   "source": [
    "## Part V: Hash Breaking Competition\n",
    "\n",
    "* What is the approach you used to crack the hashes?"
   ],
   "metadata": {}
  },
  {
   "cell_type": "markdown",
   "source": [
    "For the competition, we utilized a myriad of tools and methods. The approach that I used to crack the hashes is twofold:\n",
    "\n",
    "1. Using dictionary and bruteforce attacks via [Hashcat](https://hashcat.net/hashcat/) and [John the Ripper](https://www.openwall.com/john/)\n",
    "\n",
    "The \"weak\" hashes can be cracked via dictionary attacks fairly easily and quickly, while the \"strong\" hashes can be cracked via pure bruteforce attacks. For dictionary attacks, we utilize the [`OneRuleToRuleThemAll`](https://github.com/stealthsploit/Optimised-hashcat-Rule) rule or the [`pantagrule.one.royce`](https://github.com/rarecoil/pantagrule) rule, [CrackStation's main word list dictionary](https://crackstation.net/crackstation-wordlist-password-cracking-dictionary.htm), and [princeprocessor](https://github.com/hashcat/princeprocessor). For bruteforce attacks, we simply use incremental mask attacks using custom user-defined character sets (lowercase and uppercase alphanumerics with the more popularly used symbols).\n",
    "\n",
    "2. Using online databases\n",
    "\n",
    "The tricky hashes are the \"moderate\" hashes. They are not so easily cracked via pure dictionary attacks, but they often do not require pure bruteforce attacks (some even have fairly long lengths that would take virtually forever to crack via pure bruteforce, making brute force unfeasible). Instead, they require \"smart\" methods of thinking and cracking. One possible method would be to comb through online databases to get the plaintexts of these hashes. Such websites include:\n",
    "  - [https://hashes.com/en/decrypt/hash](https://hashes.com/en/decrypt/hash)\n",
    "  - [https://md5decrypt.net/en/](https://md5decrypt.net/en/)\n",
    "  - [https://md5.gromweb.com/](https://md5.gromweb.com/)\n",
    "  - [http://md5.my-addr.com/](http://md5.my-addr.com/)\n",
    "  - [https://hashtoolkit.com/decrypt-md5-hash/](https://hashtoolkit.com/decrypt-md5-hash/)\n",
    "  - [https://crackstation.net/](https://crackstation.net/)\n",
    "  - [https://www.cmd5.org/](https://www.cmd5.org/)\n",
    "  - [https://10015.io/tools/md5-encrypt-decrypt](https://10015.io/tools/md5-encrypt-decrypt)\n",
    "  - [https://nitrxgen.net/md5db/](https://nitrxgen.net/md5db/)\n",
    "  - [https://www.md5online.org/md5-decrypt.html](https://www.md5online.org/md5-decrypt.html)\n",
    "\n",
    "This leaves us with **145** out of the **148** total hashes cracked.\n",
    "\n",
    "To crack the remaining 3 hashes, we could potentially make use of the fact that they are considered as \"moderate\" hashes, and yet no online databases have their corresponding plaintexts. From this information, we could potentially deduce that the possible input space ideas might include:\n",
    "- Aphorisms, short quotes, or popular sayings\n",
    "- Phone number syntaxes\n",
    "- Repeated characters (potentially in the `string.printable` charset) for very long lengths\n",
    "- Double/triple hashes of common passwords (checks for potential fixed points have been conducted to no avail)\n",
    "- Strings of English words with/without whitespaces/hyphens/slashes/underscores (there are approximately about 170000-520000 meaningfully distinct English words in existence)\n",
    "- Somewhat obvious URL/URI syntaxes or website names\n",
    "- Hybrid format (English word/words in leetspeak appended/prepended with random characters) - this would require combination attacks\n",
    "- Popular song lyrics\n",
    "- Titles/notes of popular musical pieces (like 4'33\", etc.)\n",
    "- Radio station format (140.45FM)\n",
    "- Names of popular people\n",
    "- Morse code\n",
    "- Decimal representation of popular constants (speed of light, natural number, etc.), or simply a random string of digits with a comma/decimal point somewhere\n",
    "- First sentence or even the entirety of popular literary texts (like one of Shakespeare's works or Lorem Ipsum) which might include different cases, punctuations and whitespaces - this would be literally impossible to brute force even with all the time in the universe and the computational power of all of humanity due to the huge size of the input space associated with it\n",
    "- Anything related to SUTD 50.042 or [MIT 6.857](https://courses.csail.mit.edu/6.857/2014/files/hashes.txt) (might be useful to create custom word lists/dictionaries with custom ruleset files for this).\n",
    "\n",
    "The nature of some of these hashes might not even be suitable for practical, real-life \"passwords\" in real-world scenarios, as shown by the more \"creative\" cracked plaintexts. As such, due to this aspect of the competition, it can be relatively harder to crack some of said hashes (especially those in the Moderate category), as the possible input space size greatly increases due to the sheer number of potential variations."
   ],
   "metadata": {}
  },
  {
   "cell_type": "markdown",
   "source": [
    "* How you decided or designed your approach?"
   ],
   "metadata": {}
  },
  {
   "cell_type": "markdown",
   "source": [
    "This approach was designed after running Hashcat on the list of hashes for a while and noticing that the hashes in each category are of a particular \"type\". They are not ordered in terms of difficulty, but rather, ordered in terms of what type of approach we should take in cracking them. Rainbow tables are useless in this challenge since the input string's length and character set can vary tremendously, increasing the input space, and each hash might have different dynamic salt values (or even no static salts at all)."
   ],
   "metadata": {}
  },
  {
   "cell_type": "markdown",
   "source": [
    "* What are the main challenges and limitations of your approach?"
   ],
   "metadata": {}
  },
  {
   "cell_type": "markdown",
   "source": [
    "My approach is a complex approach which involves a lot of both automated and manual work. It can be challenging to manage and split the work properly, especially considering the fact that we should avoid wastage of effort.\r\n",
    "\r\n",
    "My approach also does not guarantee that we will obtain the plaintexts of all possible MD5 hashes, since we employ a multi-targeted strategy with various \"intuitive\"/vaguely-defined stopping conditions, that might actually prevent us from getting the very plaintexts that we are attempting to get all along.\r\n",
    "\r\n",
    "The exploratory nature of my approach might also eliminate or reduce the possibility of myself attempting more systematic approaches (which admittedly, might take a much longer time to crack all the hashes). It is also more difficult to document every single step in detail."
   ],
   "metadata": {}
  }
 ],
 "metadata": {
  "kernelspec": {
   "name": "python3",
   "display_name": "Python 3.8.11 64-bit"
  },
  "language_info": {
   "codemirror_mode": {
    "name": "ipython",
    "version": 3
   },
   "file_extension": ".py",
   "mimetype": "text/x-python",
   "name": "python",
   "nbconvert_exporter": "python",
   "pygments_lexer": "ipython3",
   "version": "3.8.11"
  },
  "interpreter": {
   "hash": "31f2aee4e71d21fbe5cf8b01ff0e069b9275f58929596ceb00d14d90e3e16cd6"
  }
 },
 "nbformat": 4,
 "nbformat_minor": 5
}