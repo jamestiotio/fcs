{
 "cells": [
  {
   "cell_type": "markdown",
   "source": [
    "## FCS Lab 1 Submission Report"
   ],
   "metadata": {}
  },
  {
   "cell_type": "markdown",
   "source": [
    "* Name of Student(s): James Raphael Tiovalen\r\n",
    "* Student ID(s): 1004555"
   ],
   "metadata": {}
  },
  {
   "cell_type": "code",
   "execution_count": 7,
   "source": [
    "import datetime\r\n",
    "print(\"Execution time:\", datetime.datetime.now(datetime.timezone.utc).strftime(\"%Y-%m-%d %H:%M:%S\"))"
   ],
   "outputs": [
    {
     "output_type": "stream",
     "name": "stdout",
     "text": [
      "Execution time: 2021-09-17 02:16:56\n"
     ]
    }
   ],
   "metadata": {}
  },
  {
   "cell_type": "markdown",
   "source": [
    "### Part I: Shift Cipher for printable input"
   ],
   "metadata": {}
  },
  {
   "cell_type": "code",
   "execution_count": 8,
   "source": [
    "!python3 ex1.py -i sherlock_short.txt -o sherlock_short.en -k 42 -m e\r\n",
    "!cat sherlock_short.en"
   ],
   "outputs": [
    {
     "output_type": "stream",
     "name": "stdout",
     "text": [
      "{(hA\n",
      "XU(\"%S!A\\%\"#U)fA-X%A-Q)A+)+Q\"\"/A,U(/A\"Q*UAY$A*XUA#%($Y$W)fA)Q,UA+&%$A*X%)UA$%*AY$V(U'+U$*A%SSQ)Y%$)A-XU$AXUA-Q)A+&AQ\"\"A$YWX*fA-Q)A)UQ*UTAQ*A*XUAR(UQ!VQ)*A*QR\"Uh\n"
     ]
    }
   ],
   "metadata": {}
  },
  {
   "cell_type": "code",
   "execution_count": 9,
   "source": [
    "!python3 ex1.py -i sherlock_short.en -o sherlock_short.de.txt -k 42 -m d\r\n",
    "!cat sherlock_short.de.txt"
   ],
   "outputs": [
    {
     "output_type": "stream",
     "name": "stdout",
     "text": [
      "Mr. Sherlock Holmes, who was usually very late in the mornings, save upon those not infrequent occasions when he was up all night, was seated at the breakfast table.\n"
     ]
    }
   ],
   "metadata": {}
  },
  {
   "cell_type": "markdown",
   "source": [
    "Expected output:\n",
    "```\n",
    "Mr. Sherlock Holmes, who was usually very late in the mornings, save upon those not infrequent occasions when he was up all night, was seated at the breakfast table. \n",
    "```"
   ],
   "metadata": {}
  },
  {
   "cell_type": "markdown",
   "source": [
    "### Part II: Shift Cipher for binary input"
   ],
   "metadata": {}
  },
  {
   "cell_type": "code",
   "execution_count": 10,
   "source": [
    "!python3 ex2.py -i sherlock_short.txt -o sherlock_short.en.bin -k 42 -m e\r\n",
    "!cat sherlock_short.en.bin"
   ],
   "outputs": [
    {
     "output_type": "stream",
     "name": "stdout",
     "text": [
      "w�XJ}�������Jr�����VJ���J���J�������J����J����J��J���J��������VJ����J����J�����J���J����������J���������J����J��J���J��J���J�����VJ���J������J��J���J���������J�����X\n"
     ]
    }
   ],
   "metadata": {}
  },
  {
   "cell_type": "code",
   "execution_count": 11,
   "source": [
    "!python3 ex2.py -i sherlock_short.en.bin -o sherlock_short.de.txt -k 42 -m d\r\n",
    "!cat sherlock_short.de.txt"
   ],
   "outputs": [
    {
     "output_type": "stream",
     "name": "stdout",
     "text": [
      "Mr. Sherlock Holmes, who was usually very late in the mornings, save upon those not infrequent occasions when he was up all night, was seated at the breakfast table.\n"
     ]
    }
   ],
   "metadata": {}
  },
  {
   "cell_type": "markdown",
   "source": [
    "Expected output:\n",
    "```\n",
    "Mr. Sherlock Holmes, who was usually very late in the mornings, save upon those not infrequent occasions when he was up all night, was seated at the breakfast table. \n",
    "```"
   ],
   "metadata": {}
  },
  {
   "cell_type": "markdown",
   "source": [
    "### Part III: Break Shift Cipher of ﬂag"
   ],
   "metadata": {}
  },
  {
   "cell_type": "code",
   "execution_count": 12,
   "source": [
    "# Fill this in!\r\n",
    "# The binary flag file is a PNG file (with key: 246).\r\n",
    "# Smart deduction can be conducted via inspecting the file headers and the \"spacings\" between the first few bytes.\r\n",
    "# Alternatively, a bruteforce method would also be viable.\r\n",
    "!file flag flag.png"
   ],
   "outputs": [
    {
     "output_type": "stream",
     "name": "stdout",
     "text": [
      "flag:     data\n",
      "flag.png: PNG image data, 1200 x 1200, 8-bit/color RGBA, non-interlaced\n"
     ]
    }
   ],
   "metadata": {}
  },
  {
   "cell_type": "markdown",
   "source": [
    "Expected output:\n",
    "\n",
    "You'll know it's correct when you see it..."
   ],
   "metadata": {}
  }
 ],
 "metadata": {
  "kernelspec": {
   "name": "python3",
   "display_name": "Python 3.8.6 64-bit"
  },
  "language_info": {
   "codemirror_mode": {
    "name": "ipython",
    "version": 3
   },
   "file_extension": ".py",
   "mimetype": "text/x-python",
   "name": "python",
   "nbconvert_exporter": "python",
   "pygments_lexer": "ipython3",
   "version": "3.8.6"
  },
  "interpreter": {
   "hash": "2db524e06e9f5f4ffedc911c917cb75e12dbc923643829bf417064a77eb14d37"
  }
 },
 "nbformat": 4,
 "nbformat_minor": 5
}